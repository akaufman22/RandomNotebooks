{
 "cells": [
  {
   "cell_type": "code",
   "execution_count": 32,
   "metadata": {},
   "outputs": [],
   "source": [
    "import requests\n",
    "import re\n",
    "import numpy as np\n",
    "import matplotlib.pyplot as plt"
   ]
  },
  {
   "cell_type": "code",
   "execution_count": 6,
   "metadata": {},
   "outputs": [],
   "source": [
    "book = requests.get (\"https://gutenberg.org/files/98/98-0.txt\")"
   ]
  },
  {
   "cell_type": "code",
   "execution_count": 11,
   "metadata": {},
   "outputs": [],
   "source": [
    "text = book.text"
   ]
  },
  {
   "cell_type": "code",
   "execution_count": 44,
   "metadata": {},
   "outputs": [
    {
     "data": {
      "text/plain": [
       "'ï»¿The Project Gutenberg eBook of A Tale of Two Cities  by Charles Dickens  This eBook is for the use of anyone anywhere in the United States and most other parts of the world at no cost and with almost no restrictions whatsoever  You may copy it  give it away or re-use it under the terms of the Project Gutenberg License included with this eBook or online at www gutenberg org  If you are not located in the United States  you will have to check the laws of the country where you are located before using this eBook   Title  A Tale of Two Cities        A Story of the French Revolution  Author  Charles Dickens  Release Date  January  1994 [eBook #98] [Most recently updated  December 20  2020]  Language  English  Character set encoding  UTF-8  Produced by  Judith Boss and David Widger      START OF THE PROJECT GUTENBERG EBOOK A TALE OF TWO CITIES         A TALE OF TWO CITIES  A STORY OF THE FRENCH REVOLUTION  By Charles Dickens   CONTENTS        Book the First--Recalled to Life       CHAPTER I      The Period      CHAPTER II     The Mail      CHAPTER III    The Night Shadows      CHAPTER IV     The Preparation      CHAPTER V      The Wine-shop      CHAPTER VI     The Shoemaker        Book the Second--the Golden Thread       CHAPTER I      Five Years Later      CHAPTER II     A Sight      CHAPTER III    A Disappointment      CHAPTER IV     Congratulatory      CHAPTER V      The Jackal      CHAPTER VI     Hundreds of People      CHAPTER VII    Monseigneur in Town      CHAPTER VIII   Monseigneur in the Country      CHAPTER IX     The Gorgon s Head      CHAPTER X      Two Promises      CHAPTER XI     A Companion Picture      CHAPTER XII    The Fellow of Delicacy      CHAPTER XIII   The Fellow of no Delicacy      CHAPTER XIV    The Honest Tradesman      CHAPTER XV     Knitting      CHAPTER XVI    Still Knitting      CHAPTER XVII   One Night      CHAPTER XVIII  Nine Days      CHAPTER XIX    An Opinion      CHAPTER XX     A Plea      CHAPTER XXI    Echoing Footsteps      CHAPTER'"
      ]
     },
     "execution_count": 44,
     "metadata": {},
     "output_type": "execute_result"
    }
   ],
   "source": [
    "text[:2000]"
   ]
  },
  {
   "cell_type": "code",
   "execution_count": 15,
   "metadata": {},
   "outputs": [],
   "source": [
    "strings2replace = [\n",
    "                 '\\r\\n\\r\\nâ\\x80\\x9c', # new paragraph\n",
    "                 'â\\x80\\x9c',         # open quote\n",
    "                 'â\\x80\\x9d',         # close quote\n",
    "                 '\\r\\n',              # new line\n",
    "                 'â\\x80\\x94',         # hyphen\n",
    "                 'â\\x80\\x99',         # single apostrophe\n",
    "                 'â\\x80\\x98',         # single quote\n",
    "                 '_',                 # underscore, used for stressing\n",
    "                 ]"
   ]
  },
  {
   "cell_type": "code",
   "execution_count": 17,
   "metadata": {},
   "outputs": [],
   "source": [
    "for st in strings2replace:\n",
    "    regex_lines = re.compile(st)\n",
    "    text = regex_lines.sub(' ', text)"
   ]
  },
  {
   "cell_type": "code",
   "execution_count": 27,
   "metadata": {},
   "outputs": [],
   "source": [
    "for pm in ['.', ',', '!', '?', ':', ';', '(',  ')', '*']: text = text.replace(pm, ' ')"
   ]
  },
  {
   "cell_type": "code",
   "execution_count": 29,
   "metadata": {},
   "outputs": [],
   "source": [
    "words = text.split()"
   ]
  },
  {
   "cell_type": "code",
   "execution_count": 42,
   "metadata": {},
   "outputs": [
    {
     "data": {
      "text/plain": [
       "(array([6.0640e+03, 2.5263e+04, 3.3568e+04, 2.5229e+04, 1.4791e+04,\n",
       "        1.1016e+04, 9.1470e+03, 5.9010e+03, 3.9170e+03, 2.3900e+03,\n",
       "        1.2730e+03, 7.7500e+02, 4.0800e+02, 1.7200e+02, 8.6000e+01,\n",
       "        7.6000e+01, 1.3000e+01, 1.2000e+01, 1.4000e+01]),\n",
       " array([ 1.,  2.,  3.,  4.,  5.,  6.,  7.,  8.,  9., 10., 11., 12., 13.,\n",
       "        14., 15., 16., 17., 18., 19., 20.]),\n",
       " <a list of 19 Patch objects>)"
      ]
     },
     "execution_count": 42,
     "metadata": {},
     "output_type": "execute_result"
    },
    {
     "data": {
      "image/png": "[encoded data removed]",
      "text/plain": [
       "<Figure size 432x288 with 1 Axes>"
      ]
     },
     "metadata": {
      "needs_background": "light"
     },
     "output_type": "display_data"
    }
   ],
   "source": [
    "wordsl = [len(w) for w in words]\n",
    "plt.hist(wordsl, bins=np.linspace(1,20,20))"
   ]
  }
 ],
 "metadata": {
  "kernelspec": {
   "display_name": "Python 3",
   "language": "python",
   "name": "python3"
  },
  "language_info": {
   "codemirror_mode": {
    "name": "ipython",
    "version": 3
   },
   "file_extension": ".py",
   "mimetype": "text/x-python",
   "name": "python",
   "nbconvert_exporter": "python",
   "pygments_lexer": "ipython3",
   "version": "3.8.3"
  }
 },
 "nbformat": 4,
 "nbformat_minor": 4
}
